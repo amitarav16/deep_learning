{
  "nbformat": 4,
  "nbformat_minor": 0,
  "metadata": {
    "colab": {
      "name": "digit_recognizer.ipynb",
      "version": "0.3.2",
      "provenance": [],
      "collapsed_sections": [],
      "include_colab_link": true
    },
    "kernelspec": {
      "name": "python3",
      "display_name": "Python 3"
    }
  },
  "cells": [
    {
      "cell_type": "markdown",
      "metadata": {
        "id": "view-in-github",
        "colab_type": "text"
      },
      "source": [
        "<a href=\"https://colab.research.google.com/github/amitarav16/deep_learning/blob/master/digit_recognizer.ipynb\" target=\"_parent\"><img src=\"https://colab.research.google.com/assets/colab-badge.svg\" alt=\"Open In Colab\"/></a>"
      ]
    },
    {
      "cell_type": "code",
      "metadata": {
        "id": "Dkyg3fAFgG2P",
        "colab_type": "code",
        "colab": {}
      },
      "source": [
        "#import\n",
        "import numpy as np \n",
        "import pandas as pd \n",
        "import tensorflow as tf \n",
        "from tensorflow import keras\n",
        "from keras.datasets import mnist\n",
        "import matplotlib.pyplot as plt \n",
        "from keras.models import Sequential\n",
        "from keras.layers import Dense, Conv2D, Dropout, Flatten, MaxPooling2D\n"
      ],
      "execution_count": 0,
      "outputs": []
    },
    {
      "cell_type": "code",
      "metadata": {
        "id": "ftqZnshrhp44",
        "colab_type": "code",
        "colab": {}
      },
      "source": [
        "#loading the dataset \n",
        "(x_train,y_train),(x_test,y_test) = mnist.load_data()\n"
      ],
      "execution_count": 0,
      "outputs": []
    },
    {
      "cell_type": "code",
      "metadata": {
        "id": "F8CSqI2di-uo",
        "colab_type": "code",
        "colab": {}
      },
      "source": [
        "#normalizing the input\n",
        "x_train = x_train.reshape(x_train.shape[0],28,28,1)\n",
        "x_train = x_train.astype('float32')\n",
        "x_train = x_train/255\n",
        "\n",
        "x_test = x_test.reshape(x_test.shape[0],28,28,1)\n",
        "x_test = x_test.astype('float32')\n",
        "x_test = x_test/255"
      ],
      "execution_count": 0,
      "outputs": []
    },
    {
      "cell_type": "code",
      "metadata": {
        "id": "QiytLIfokK8Y",
        "colab_type": "code",
        "colab": {
          "base_uri": "https://localhost:8080/",
          "height": 124
        },
        "outputId": "e0194ccb-424d-4fc9-d5d9-d1241dc1c0ac"
      },
      "source": [
        "input_shape = (28,28,1)\n",
        "#creating model\n",
        "model = Sequential()\n",
        "model.add(Conv2D(28,kernel_size=(3,3),input_shape=input_shape))\n",
        "model.add(MaxPooling2D(pool_size=(2,2)))\n",
        "model.add(Flatten())\n",
        "model.add(Dense(128,activation=tf.nn.relu))\n",
        "model.add(Dropout(0.2))\n",
        "model.add(Dense(10,activation=tf.nn.softmax))"
      ],
      "execution_count": 29,
      "outputs": [
        {
          "output_type": "stream",
          "text": [
            "W0712 11:26:17.554033 140589268387712 deprecation_wrapper.py:119] From /usr/local/lib/python3.6/dist-packages/keras/backend/tensorflow_backend.py:133: The name tf.placeholder_with_default is deprecated. Please use tf.compat.v1.placeholder_with_default instead.\n",
            "\n",
            "W0712 11:26:17.565295 140589268387712 deprecation.py:506] From /usr/local/lib/python3.6/dist-packages/keras/backend/tensorflow_backend.py:3445: calling dropout (from tensorflow.python.ops.nn_ops) with keep_prob is deprecated and will be removed in a future version.\n",
            "Instructions for updating:\n",
            "Please use `rate` instead of `keep_prob`. Rate should be set to `rate = 1 - keep_prob`.\n"
          ],
          "name": "stderr"
        }
      ]
    },
    {
      "cell_type": "code",
      "metadata": {
        "id": "Bf_08b8Y6Ab2",
        "colab_type": "code",
        "colab": {
          "base_uri": "https://localhost:8080/",
          "height": 454
        },
        "outputId": "dd509951-890b-4eec-d0d5-f0ce621c9c20"
      },
      "source": [
        "#compiling model\n",
        "model.compile(optimizer='adam',loss='sparse_categorical_crossentropy',metrics=['accuracy'])\n",
        "#training model\n",
        "model.fit(x_train,y_train,epochs=10)"
      ],
      "execution_count": 31,
      "outputs": [
        {
          "output_type": "stream",
          "text": [
            "W0712 11:29:13.445215 140589268387712 deprecation.py:323] From /usr/local/lib/python3.6/dist-packages/tensorflow/python/ops/math_grad.py:1250: add_dispatch_support.<locals>.wrapper (from tensorflow.python.ops.array_ops) is deprecated and will be removed in a future version.\n",
            "Instructions for updating:\n",
            "Use tf.where in 2.0, which has the same broadcast rule as np.where\n"
          ],
          "name": "stderr"
        },
        {
          "output_type": "stream",
          "text": [
            "Epoch 1/10\n",
            "60000/60000 [==============================] - 44s 737us/step - loss: 0.2000 - acc: 0.9402\n",
            "Epoch 2/10\n",
            "60000/60000 [==============================] - 44s 728us/step - loss: 0.0784 - acc: 0.9761\n",
            "Epoch 3/10\n",
            "60000/60000 [==============================] - 44s 730us/step - loss: 0.0555 - acc: 0.9829\n",
            "Epoch 4/10\n",
            "60000/60000 [==============================] - 43s 725us/step - loss: 0.0420 - acc: 0.9862\n",
            "Epoch 5/10\n",
            "60000/60000 [==============================] - 43s 720us/step - loss: 0.0322 - acc: 0.9897\n",
            "Epoch 6/10\n",
            "60000/60000 [==============================] - 43s 717us/step - loss: 0.0263 - acc: 0.9912\n",
            "Epoch 7/10\n",
            "60000/60000 [==============================] - 44s 726us/step - loss: 0.0247 - acc: 0.9918\n",
            "Epoch 8/10\n",
            "60000/60000 [==============================] - 43s 723us/step - loss: 0.0194 - acc: 0.9935\n",
            "Epoch 9/10\n",
            "60000/60000 [==============================] - 43s 719us/step - loss: 0.0190 - acc: 0.9936\n",
            "Epoch 10/10\n",
            "60000/60000 [==============================] - 43s 724us/step - loss: 0.0154 - acc: 0.9947\n"
          ],
          "name": "stdout"
        },
        {
          "output_type": "execute_result",
          "data": {
            "text/plain": [
              "<keras.callbacks.History at 0x7fdd31e802b0>"
            ]
          },
          "metadata": {
            "tags": []
          },
          "execution_count": 31
        }
      ]
    },
    {
      "cell_type": "code",
      "metadata": {
        "id": "PX84cbU-8TKW",
        "colab_type": "code",
        "colab": {
          "base_uri": "https://localhost:8080/",
          "height": 52
        },
        "outputId": "cd5ac58d-51d6-4fbb-a9cf-cdb02ffee632"
      },
      "source": [
        "#evaluating model\n",
        "model.evaluate(x_test,y_test)"
      ],
      "execution_count": 32,
      "outputs": [
        {
          "output_type": "stream",
          "text": [
            "10000/10000 [==============================] - 2s 185us/step\n"
          ],
          "name": "stdout"
        },
        {
          "output_type": "execute_result",
          "data": {
            "text/plain": [
              "[0.06027747198881334, 0.9842]"
            ]
          },
          "metadata": {
            "tags": []
          },
          "execution_count": 32
        }
      ]
    },
    {
      "cell_type": "code",
      "metadata": {
        "id": "IFxPaMbA-MUx",
        "colab_type": "code",
        "colab": {
          "base_uri": "https://localhost:8080/",
          "height": 286
        },
        "outputId": "e085ec05-a970-42d5-d54e-b1460641b321"
      },
      "source": [
        "image_index = 128\n",
        "plt.imshow(x_test[image_index].reshape(28, 28),cmap='Greys')\n",
        "pred = model.predict(x_test[image_index].reshape(1, 28, 28, 1))\n",
        "print(pred.argmax())"
      ],
      "execution_count": 40,
      "outputs": [
        {
          "output_type": "stream",
          "text": [
            "8\n"
          ],
          "name": "stdout"
        },
        {
          "output_type": "display_data",
          "data": {
            "image/png": "[encoded data removed]",
            "text/plain": [
              "<Figure size 432x288 with 1 Axes>"
            ]
          },
          "metadata": {
            "tags": []
          }
        }
      ]
    },
    {
      "cell_type": "code",
      "metadata": {
        "id": "V_BaEnf2-UXH",
        "colab_type": "code",
        "colab": {}
      },
      "source": [
        ""
      ],
      "execution_count": 0,
      "outputs": []
    }
  ]
}